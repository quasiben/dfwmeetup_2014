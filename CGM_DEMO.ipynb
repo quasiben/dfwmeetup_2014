{
 "metadata": {
  "name": ""
 },
 "nbformat": 3,
 "nbformat_minor": 0,
 "worksheets": [
  {
   "cells": [
    {
     "cell_type": "markdown",
     "metadata": {},
     "source": [
      "#CGM EXAMPLE\n",
      "\n",
      "Grab some data\n",
      "\n",
      "- Continuous glucose monitor timeseries\n",
      "- 8 months worth of ~5min samples of blood glucose\n",
      "- data csv:\n",
      " - datetime of measurement\n",
      " - isig (current/voltage of measurement\n",
      " - glucose: converted isig value\n",
      "- data originates from a juvenile type I diabetic\n"
     ]
    },
    {
     "cell_type": "code",
     "collapsed": false,
     "input": [
      "import urllib2\n",
      "url = 'http://files.figshare.com/1113528/CGM.csv'\n",
      "response = urllib2.urlopen(url)\n",
      "\n",
      "fname = 'CGM.csv'\n",
      "with open(fname,'wb') as f:\n",
      "    f.write(response.read())"
     ],
     "language": "python",
     "metadata": {},
     "outputs": []
    },
    {
     "cell_type": "code",
     "collapsed": false,
     "input": [
      "import pandas as pd"
     ],
     "language": "python",
     "metadata": {},
     "outputs": []
    },
    {
     "cell_type": "markdown",
     "metadata": {},
     "source": [
      "###Load CSV and Print first few lines"
     ]
    },
    {
     "cell_type": "code",
     "collapsed": false,
     "input": [
      "df = pd.read_csv('CGM.CSV')\n",
      "df.head()"
     ],
     "language": "python",
     "metadata": {},
     "outputs": []
    },
    {
     "cell_type": "markdown",
     "metadata": {},
     "source": [
      "Pandas has advanced CSV loading and parsing.  Instead of the vanilla read_csv let's add arguments for parsing the datetime column as datetime objects and set that column as the index"
     ]
    },
    {
     "cell_type": "code",
     "collapsed": false,
     "input": [
      "df = pd.read_csv('CGM.csv',sep=',',parse_dates=[1],index_col=1)\n",
      "df.head(5)"
     ],
     "language": "python",
     "metadata": {},
     "outputs": []
    },
    {
     "cell_type": "markdown",
     "metadata": {},
     "source": [
      "Now we can index into dataframe through dates.  print values on october 24th 2010 from 10am to 10:30am"
     ]
    },
    {
     "cell_type": "code",
     "collapsed": false,
     "input": [
      "df.ix['2010-03-24 10:00':'2010-03-24 10:30']"
     ],
     "language": "python",
     "metadata": {},
     "outputs": []
    },
    {
     "cell_type": "markdown",
     "metadata": {},
     "source": [
      "With new data a good method of introspection is plotting"
     ]
    },
    {
     "cell_type": "code",
     "collapsed": false,
     "input": [
      "df.plot()"
     ],
     "language": "python",
     "metadata": {},
     "outputs": []
    },
    {
     "cell_type": "markdown",
     "metadata": {},
     "source": [
      "We've seen a number of instances of messy data and this data set is no different"
     ]
    },
    {
     "cell_type": "code",
     "collapsed": false,
     "input": [
      "print df.ix[39450:39470]"
     ],
     "language": "python",
     "metadata": {},
     "outputs": []
    },
    {
     "cell_type": "markdown",
     "metadata": {},
     "source": [
      "###`nil` is something which can't be plot.  Tell pandas `nil` are the NaN values in this datasets. pandas understand NaN vals"
     ]
    },
    {
     "cell_type": "code",
     "collapsed": false,
     "input": [
      "df = pd.read_csv('CGM.csv',sep=',',parse_dates=[1],index_col=1,na_values='nil')\n",
      "df.plot()"
     ],
     "language": "python",
     "metadata": {},
     "outputs": []
    },
    {
     "cell_type": "markdown",
     "metadata": {},
     "source": [
      "You can see the gap of missing values near Sep 2010 in the plot above"
     ]
    },
    {
     "cell_type": "markdown",
     "metadata": {},
     "source": [
      "#What to do with missing values?"
     ]
    },
    {
     "cell_type": "code",
     "collapsed": false,
     "input": [
      "print df.ix[39450:39470]"
     ],
     "language": "python",
     "metadata": {},
     "outputs": []
    },
    {
     "cell_type": "markdown",
     "metadata": {},
     "source": [
      "#Drop Missing Values"
     ]
    },
    {
     "cell_type": "code",
     "collapsed": false,
     "input": [
      "df_drop = df.dropna(axis=0).ix[39450:39470]\n",
      "df_drop"
     ],
     "language": "python",
     "metadata": {},
     "outputs": []
    },
    {
     "cell_type": "markdown",
     "metadata": {},
     "source": [
      "Jump in time from 10:30am to 13:56 (1:56 pm)"
     ]
    },
    {
     "cell_type": "markdown",
     "metadata": {},
     "source": [
      "#Fill With Limit"
     ]
    },
    {
     "cell_type": "code",
     "collapsed": false,
     "input": [
      "df.ix[39460:39470]"
     ],
     "language": "python",
     "metadata": {},
     "outputs": []
    },
    {
     "cell_type": "code",
     "collapsed": false,
     "input": [
      "df.fillna(method='pad',limit=5).ix[39450:39470]"
     ],
     "language": "python",
     "metadata": {},
     "outputs": []
    },
    {
     "cell_type": "markdown",
     "metadata": {},
     "source": [
      "Fills up to 5 consecutive rows with value preceding NaNs\n",
      "\n"
     ]
    },
    {
     "cell_type": "markdown",
     "metadata": {},
     "source": [
      "#Fill Values with 0"
     ]
    },
    {
     "cell_type": "code",
     "collapsed": false,
     "input": [
      "df.fillna(0).ix[39460:39470]"
     ],
     "language": "python",
     "metadata": {},
     "outputs": []
    },
    {
     "cell_type": "markdown",
     "metadata": {},
     "source": [
      "No matter how you fill NaN values statistic calculations will still succesfully complete."
     ]
    },
    {
     "cell_type": "code",
     "collapsed": false,
     "input": [
      "df.describe()"
     ],
     "language": "python",
     "metadata": {},
     "outputs": []
    },
    {
     "cell_type": "markdown",
     "metadata": {},
     "source": [
      "#Interpolate Values"
     ]
    },
    {
     "cell_type": "code",
     "collapsed": false,
     "input": [
      "df = df.apply(pd.Series.interpolate)\n",
      "print df.ix[39460:39470]"
     ],
     "language": "python",
     "metadata": {},
     "outputs": []
    },
    {
     "cell_type": "markdown",
     "metadata": {},
     "source": [
      "We're going to use the interpolated values for the rest of the example"
     ]
    },
    {
     "cell_type": "markdown",
     "metadata": {},
     "source": [
      "A great thing about pandas is the integrated plotting with matplotlib\n",
      "\n",
      "Index by date, plot a month worth of data"
     ]
    },
    {
     "cell_type": "code",
     "collapsed": false,
     "input": [
      "df.ix['2010-10-04'].plot()"
     ],
     "language": "python",
     "metadata": {},
     "outputs": []
    },
    {
     "cell_type": "code",
     "collapsed": false,
     "input": [
      "df.ix['2010-10-04':'2010-11-04'].plot()"
     ],
     "language": "python",
     "metadata": {},
     "outputs": []
    },
    {
     "cell_type": "markdown",
     "metadata": {},
     "source": [
      "###Visualize highs and lows of a day.  Healthy range for this patient is glucose level greater than 80 and glucose level lower than 180. \n",
      "\n",
      "We can used the same masked arrays we learned about in numpy section"
     ]
    },
    {
     "cell_type": "code",
     "collapsed": false,
     "input": [
      "day = df.ix['2010-10-04']\n",
      "highs = day[day['glucose'] > 180]\n",
      "lows = day[day['glucose'] < 80]\n",
      "\n",
      "figure(figsize=(9,6))\n",
      "ax = gca()\n",
      "\n",
      "day['glucose'].plot(style='k--',ax=ax)\n",
      "highs['glucose'].plot(style='ro',ax=ax)\n",
      "lows['glucose'].plot(style='bo',ax=ax)"
     ],
     "language": "python",
     "metadata": {},
     "outputs": []
    },
    {
     "cell_type": "markdown",
     "metadata": {},
     "source": [
      "###Generate a rolling statistic of when patient is in range"
     ]
    },
    {
     "cell_type": "code",
     "collapsed": false,
     "input": [
      "df['inrange'] = (df['glucose'] < 180) & (df['glucose'] > 80)"
     ],
     "language": "python",
     "metadata": {},
     "outputs": []
    },
    {
     "cell_type": "code",
     "collapsed": false,
     "input": [
      "#rolling_sum\n",
      "window = 30.5*288 #288 is average number of samples in a month\n",
      "inrange = pd.rolling_sum(df.inrange,window)\n",
      "inrange = inrange.dropna()\n",
      "inrange = inrange/float(window)\n",
      "\n",
      "figure(figsize=(9,8))\n",
      "#plot\n",
      "inrange.plot()"
     ],
     "language": "python",
     "metadata": {},
     "outputs": []
    },
    {
     "cell_type": "markdown",
     "metadata": {},
     "source": [
      "Computational Tools:\n",
      "\n",
      "* rolling_count\tNumber of non-null observations\n",
      "* rolling_sum\tSum of values\n",
      "* rolling_mean\tMean of values\n",
      "* rolling_median\tArithmetic median of values\n",
      "* rolling_window\tMoving window function\n",
      "* ..."
     ]
    }
   ],
   "metadata": {}
  }
 ]
}